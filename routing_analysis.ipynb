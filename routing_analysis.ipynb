{
 "cells": [
  {
   "cell_type": "code",
   "execution_count": 1,
   "id": "c2cf43d7-e2a7-486e-bd87-b3d751d0afdc",
   "metadata": {},
   "outputs": [
    {
     "data": {
      "text/plain": [
       "'1.1.1'"
      ]
     },
     "execution_count": 1,
     "metadata": {},
     "output_type": "execute_result"
    }
   ],
   "source": [
    "import osmnx as ox\n",
    "import pandana\n",
    "import geopandas as gpd\n",
    "import matplotlib.pyplot as plt\n",
    "import seaborn as sns\n",
    "\n",
    "%matplotlib inline\n",
    "ox.config(log_console=True)\n",
    "ox.__version__"
   ]
  },
  {
   "cell_type": "code",
   "execution_count": 2,
   "id": "d74e5e89-6b52-47cd-8758-a4c8422ca66d",
   "metadata": {},
   "outputs": [],
   "source": [
    "# Select city and crs\n",
    "cityname = 'warsaw, poland'\n",
    "crs = 3035"
   ]
  },
  {
   "cell_type": "code",
   "execution_count": null,
   "id": "0e8999a4-032b-4f86-bc43-ff8e41bc8c98",
   "metadata": {},
   "outputs": [],
   "source": [
    "# Get graph by geocoding\n",
    "graph = ox.graph_from_place(cityname, network_type=\"walk\")\n",
    "\n",
    "# Project graph\n",
    "graph = ox.projection.project_graph(graph, to_crs=crs)"
   ]
  },
  {
   "cell_type": "code",
   "execution_count": null,
   "id": "506b9c78-3457-4769-b1d8-62036c8cd70d",
   "metadata": {},
   "outputs": [],
   "source": [
    "# Select points of interest based on osm tags\n",
    "tags = {\n",
    "    'amenity':[\n",
    "        'cafe',\n",
    "        'bar',\n",
    "        'pub',\n",
    "        'restaurant'\n",
    "    ],\n",
    "    'shop':[\n",
    "        'bakery',\n",
    "        'convenience',\n",
    "        'supermarket',\n",
    "        'mall',\n",
    "        'department_store',\n",
    "        'clothes',\n",
    "        'fashion',\n",
    "        'shoes'\n",
    "    ],\n",
    "    'leisure':[\n",
    "        'fitness_centre'\n",
    "    ]\n",
    "}\n",
    "\n",
    "# Get amentities from place\n",
    "pois = ox.geometries.geometries_from_place(cityname, tags=tags)\n",
    "    \n",
    "# Project pois\n",
    "pois = pois.to_crs(epsg=crs)"
   ]
  },
  {
   "cell_type": "code",
   "execution_count": null,
   "id": "0531cacc-29b6-4d7a-8451-29c1cd46a51c",
   "metadata": {},
   "outputs": [],
   "source": [
    "# Max time to walk in minutes (no routing to nodes further than this)\n",
    "walk_time = 15\n",
    "\n",
    "# Walking speed\n",
    "walk_speed = 4.5\n",
    "\n",
    "# Set a uniform walking speed on every edge\n",
    "for u, v, data in graph.edges(data=True):\n",
    "    data['speed_kph'] = walk_speed\n",
    "graph = ox.add_edge_travel_times(graph)\n",
    "\n",
    "# Extract node/edge GeoDataFrames, retaining only necessary columns (for pandana)\n",
    "nodes = ox.graph_to_gdfs(graph, edges=False)[['x', 'y']]\n",
    "edges = ox.graph_to_gdfs(graph, nodes=False).reset_index()[['u', 'v', 'travel_time']]"
   ]
  },
  {
   "cell_type": "code",
   "execution_count": null,
   "id": "7ba22110-1b91-4ce9-942c-0dc1676db715",
   "metadata": {},
   "outputs": [],
   "source": [
    "# Construct the pandana network model\n",
    "network = pandana.Network(\n",
    "    node_x=nodes['x'],\n",
    "    node_y=nodes['y'], \n",
    "    edge_from=edges['u'],\n",
    "    edge_to=edges['v'],\n",
    "    edge_weights=edges[['travel_time']]\n",
    ")\n",
    "\n",
    "# Extract centroids from the pois' geometries\n",
    "centroids = pois.centroid"
   ]
  },
  {
   "cell_type": "code",
   "execution_count": null,
   "id": "d852fd3f-5f00-4dcf-8829-4c85f4b62ec1",
   "metadata": {},
   "outputs": [],
   "source": [
    "# Specify a max travel distance for analysis\n",
    "# Minutes -> seconds\n",
    "maxdist = walk_time * 60\n",
    "\n",
    "# Set the pois' locations on the network\n",
    "network.set_pois(\n",
    "    category='pois',\n",
    "    maxdist=maxdist,\n",
    "    maxitems=10,\n",
    "    x_col=centroids.x, \n",
    "    y_col=centroids.y\n",
    ")"
   ]
  },
  {
   "cell_type": "code",
   "execution_count": null,
   "id": "285818a2-be53-488f-a59a-4090e6bd9e55",
   "metadata": {},
   "outputs": [],
   "source": [
    "# calculate travel time to 10 nearest pois from each node in network\n",
    "distances = network.nearest_pois(\n",
    "    distance=maxdist,\n",
    "    category='pois',\n",
    "    num_pois=10\n",
    ")\n",
    "\n",
    "distances.astype(int).head()"
   ]
  },
  {
   "cell_type": "code",
   "execution_count": null,
   "id": "932f6323-b014-4e60-9dd9-ffbb4d13e866",
   "metadata": {},
   "outputs": [],
   "source": [
    "# Set text parameters\n",
    "COLOR = 'white'\n",
    "plt.rcParams['text.color'] = COLOR\n",
    "plt.rcParams['axes.labelcolor'] = COLOR\n",
    "plt.rcParams['xtick.color'] = COLOR\n",
    "plt.rcParams['ytick.color'] = COLOR\n",
    "\n",
    "# Setup plot\n",
    "fig, ax = plt.subplots(figsize=(20,15))\n",
    "ax.set_axis_off()\n",
    "ax.set_aspect('equal')\n",
    "fig.set_facecolor((0,0,0))\n",
    "\n",
    "# Plot distance to nearest POI\n",
    "sc = ax.scatter(\n",
    "    x=nodes['x'],\n",
    "    y=nodes['y'], \n",
    "    c=distances[1],\n",
    "    s=1,\n",
    "    cmap='viridis_r',\n",
    ")\n",
    "\n",
    "# Colorbar\n",
    "cb = fig.colorbar(sc, ax=ax, shrink=0.8, ticks=[0, 300, 600, 900])\n",
    "cb.ax.tick_params(color='none', labelsize=20)\n",
    "cb.ax.set_yticklabels(['0', '5', '10', '>= 15'])\n",
    "cb.set_label('Walking time to nearest POI (minutes)', fontsize=20, fontweight='bold')\n",
    "\n",
    "# Remove empty space\n",
    "plt.tight_layout()\n",
    "\n",
    "# Save\n",
    "plt.savefig('./docs/walk_access.png')"
   ]
  },
  {
   "cell_type": "code",
   "execution_count": null,
   "id": "4191bdaf-de37-4edc-82e3-f5fefb370c9d",
   "metadata": {},
   "outputs": [],
   "source": [
    "# Setup plot\n",
    "fig, ax = plt.subplots(nrows=2, ncols=2, figsize=(30,30), constrained_layout=False)\n",
    "ax[0][0].set_axis_off()\n",
    "ax[0][1].set_axis_off()\n",
    "ax[1][0].set_axis_off()\n",
    "ax[1][1].set_axis_off()\n",
    "ax[0][0].set_aspect('equal')\n",
    "ax[0][1].set_aspect('equal')\n",
    "ax[1][0].set_aspect('equal')\n",
    "\n",
    "# Specify colors\n",
    "fig.set_facecolor('black')\n",
    "cmap = 'viridis_r'\n",
    "\n",
    "# Plot distance to nearest POI\n",
    "hb = ax[0][0].hexbin(\n",
    "    x=nodes['x'],\n",
    "    y=nodes['y'],\n",
    "    gridsize=75,\n",
    "    cmap=cmap,\n",
    "    C=distances[1],\n",
    "    alpha=1\n",
    ")\n",
    "\n",
    "# Plot distance to 5th nearest POI\n",
    "hb = ax[0][1].hexbin(\n",
    "    x=nodes['x'],\n",
    "    y=nodes['y'],\n",
    "    gridsize=75,\n",
    "    cmap=cmap,\n",
    "    C=distances[5],\n",
    "    alpha=1\n",
    ")\n",
    "\n",
    "# Plot distance to 10th nearest POI\n",
    "hb = ax[1][0].hexbin(\n",
    "    x=nodes['x'],\n",
    "    y=nodes['y'],\n",
    "    gridsize=75,\n",
    "    cmap=cmap,\n",
    "    C=distances[10],\n",
    "    alpha=1\n",
    ")\n",
    "\n",
    "# Add titles to maps\n",
    "ax[0][0].set_title('Walking time to nearest POI', fontsize=30, fontweight='bold')\n",
    "ax[0][1].set_title('Walking time to 5th nearest POI', fontsize=30, fontweight='bold')\n",
    "ax[1][0].set_title('Walking time to 10th nearest POI', fontsize=30, fontweight='bold')\n",
    "\n",
    "# Setup color bar axis (location of color bar)\n",
    "cbar_ax = fig.add_axes([0.5, 0.01, 0.5, 0.5])\n",
    "cbar_ax.set_axis_off()\n",
    "\n",
    "# Color bar properties\n",
    "cb = plt.colorbar(\n",
    "    hb,\n",
    "    ax=cbar_ax,\n",
    "    shrink=0.9,\n",
    "    ticks=[82, 300, 600, 900],\n",
    "    orientation='horizontal',\n",
    "    aspect=20\n",
    ")\n",
    "cb.outline.set_edgecolor('none')\n",
    "cb.ax.tick_params(color='none', labelsize=30)\n",
    "cb.ax.set_xticklabels(['<= 1', '5', '10', '>= 15'])\n",
    "\n",
    "# Title for color bar\n",
    "ax[1][1].text(0.5, 0.23, 'Walking time (minutes)', fontsize=30, ha='center')\n",
    "\n",
    "# Tight layout\n",
    "plt.tight_layout()\n",
    "\n",
    "# Save\n",
    "plt.savefig('./docs/walk_access_comparison.png')"
   ]
  },
  {
   "cell_type": "code",
   "execution_count": null,
   "id": "1104f77e-ac2c-428e-bf07-c9ba7b57f773",
   "metadata": {},
   "outputs": [],
   "source": [
    "# check data\n",
    "distances.head()"
   ]
  },
  {
   "cell_type": "code",
   "execution_count": null,
   "id": "b18eb1b5-af96-4f73-aae1-4b743fedcc7f",
   "metadata": {},
   "outputs": [],
   "source": [
    "nodes.head()"
   ]
  },
  {
   "cell_type": "code",
   "execution_count": null,
   "id": "a00d4ea1-c0d0-49ea-becf-9129c43bba99",
   "metadata": {},
   "outputs": [],
   "source": [
    "# Get nodes with wgs coords for output csv\n",
    "graph_wgs = ox.projection.project_graph(graph, to_crs=4326)\n",
    "nodes_wgs = ox.graph_to_gdfs(graph_wgs, edges=False)[['x', 'y']]"
   ]
  },
  {
   "cell_type": "code",
   "execution_count": null,
   "id": "225f2dd5-547e-410b-be4b-4a3b4126346e",
   "metadata": {},
   "outputs": [],
   "source": [
    "# Join travel time info to nodes\n",
    "walk_access = nodes.join(distances, on='osmid', how='left')\n",
    "walk_access_wgs = nodes_wgs.join(distances, on='osmid', how='left')"
   ]
  },
  {
   "cell_type": "code",
   "execution_count": null,
   "id": "c8651e96-158c-4883-ae70-75a2b1428121",
   "metadata": {},
   "outputs": [],
   "source": [
    "walk_access_wgs.head()"
   ]
  },
  {
   "cell_type": "code",
   "execution_count": null,
   "id": "f6d6bdb4-a93a-4d6a-8c17-7c8b693bc85b",
   "metadata": {},
   "outputs": [],
   "source": [
    "# Save as CSV\n",
    "walk_access_wgs.to_csv('./data/walk_access.csv', encoding='utf-8')"
   ]
  }
 ],
 "metadata": {
  "kernelspec": {
   "display_name": "Python 3",
   "language": "python",
   "name": "python3"
  },
  "language_info": {
   "codemirror_mode": {
    "name": "ipython",
    "version": 3
   },
   "file_extension": ".py",
   "mimetype": "text/x-python",
   "name": "python",
   "nbconvert_exporter": "python",
   "pygments_lexer": "ipython3",
   "version": "3.8.10"
  }
 },
 "nbformat": 4,
 "nbformat_minor": 5
}
