{
 "cells": [
  {
   "cell_type": "code",
   "execution_count": 1,
   "id": "c2cf43d7-e2a7-486e-bd87-b3d751d0afdc",
   "metadata": {},
   "outputs": [
    {
     "data": {
      "text/plain": [
       "'1.1.1'"
      ]
     },
     "execution_count": 1,
     "metadata": {},
     "output_type": "execute_result"
    }
   ],
   "source": [
    "import osmnx as ox\n",
    "import pandana\n",
    "import geopandas as gpd\n",
    "import matplotlib.pyplot as plt\n",
    "\n",
    "%matplotlib inline\n",
    "ox.config(log_console=True)\n",
    "ox.__version__"
   ]
  },
  {
   "cell_type": "code",
   "execution_count": 2,
   "id": "d74e5e89-6b52-47cd-8758-a4c8422ca66d",
   "metadata": {},
   "outputs": [],
   "source": [
    "# Select city (COP, HEL, WAR)\n",
    "city = 'COP'\n",
    "\n",
    "if city == 'COP':\n",
    "    cityname = 'Copenhagen, Denmark'\n",
    "    minx, miny, maxx, maxy = 12.42000, 55.61000, 12.65000, 55.78000\n",
    "elif city == 'HEL':\n",
    "    cityname = 'Helsinki, Finland'\n",
    "    minx, miny, maxx, maxy = 24.82345, 60.14084, 25.06404, 60.29496\n",
    "elif city == 'WAR':\n",
    "    cityname = 'Warsaw, Poland'\n",
    "    minx, miny, maxx, maxy = 20.79057, 52.09901, 21.31300, 52.38502"
   ]
  },
  {
   "cell_type": "code",
   "execution_count": 3,
   "id": "0e8999a4-032b-4f86-bc43-ff8e41bc8c98",
   "metadata": {},
   "outputs": [],
   "source": [
    "# Get graph by geocoding\n",
    "try:\n",
    "    graph = ox.graph_from_place(cityname, network_type=\"walk\")\n",
    "\n",
    "# Get graph based on bbox if geocoding fails (copenhagen has no polygon on nominatim)\n",
    "except ValueError:\n",
    "    graph = ox.graph_from_bbox(maxy, miny, maxx, minx, network_type=\"walk\")\n",
    "    ignore_geocoding = True\n",
    "    \n",
    "graph = ox.projection.project_graph(graph, to_crs=3035)"
   ]
  },
  {
   "cell_type": "code",
   "execution_count": null,
   "id": "af1c7ad3-ace7-468c-8112-f66a916901be",
   "metadata": {},
   "outputs": [],
   "source": [
    "# Simplify graph to get real intersections only\n",
    "# (consolidate nodes within 10m from eachother)\n",
    "graph = ox.simplification.consolidate_intersections(\n",
    "    # Graph to simplify\n",
    "    graph,\n",
    "    # buffer around each node (project the graph beforehand)\n",
    "    tolerance=10,\n",
    "    # Get result as graph (False to get nodes only as gdf)\n",
    "    rebuild_graph=True,\n",
    "    # Include dead ends\n",
    "    dead_ends=True,\n",
    "    # Reconnect the graph\n",
    "    reconnect_edges=True\n",
    ")"
   ]
  },
  {
   "cell_type": "code",
   "execution_count": null,
   "id": "0531cacc-29b6-4d7a-8451-29c1cd46a51c",
   "metadata": {},
   "outputs": [],
   "source": [
    "# Max time to walk in minutes (no routing to nodes further than this)\n",
    "walk_time = 15\n",
    "\n",
    "# Walking speed\n",
    "walk_speed = 4.5\n",
    "\n",
    "# Set a uniform walking speed on every edge\n",
    "for u, v, data in graph.edges(data=True):\n",
    "    data['speed_kph'] = walk_speed\n",
    "\n",
    "graph = ox.add_edge_travel_times(graph)\n",
    "\n",
    "# Extract node/edge GeoDataFrames, retaining only necessary columns (for pandana)\n",
    "nodes = ox.graph_to_gdfs(graph, edges=False)[['x', 'y']]\n",
    "edges = ox.graph_to_gdfs(graph, nodes=False).reset_index()[['u', 'v', 'travel_time']]"
   ]
  },
  {
   "cell_type": "code",
   "execution_count": null,
   "id": "506b9c78-3457-4769-b1d8-62036c8cd70d",
   "metadata": {},
   "outputs": [],
   "source": [
    "# Select pois based on osm tags\n",
    "tags = {\n",
    "    'amenity':[\n",
    "        'cafe',\n",
    "        'bar',\n",
    "        'pub',\n",
    "        'restaurant'\n",
    "    ],\n",
    "    'shop':[\n",
    "        'bakery',\n",
    "        'convenience',\n",
    "        'supermarket',\n",
    "        'mall',\n",
    "        'department_store',\n",
    "        'clothes',\n",
    "        'fashion',\n",
    "        'shoes'\n",
    "    ],\n",
    "    'leisure':[\n",
    "        'fitness_centre'\n",
    "    ]\n",
    "}\n",
    "\n",
    "# Get amentities from place/bbox\n",
    "if ignore_geocoding == True:\n",
    "    amenities = ox.geometries.geometries_from_bbox(\n",
    "        maxy, miny, maxx, minx,\n",
    "        tags=tags\n",
    "    )\n",
    "else:\n",
    "    amenities = ox.geometries.geometries_from_place(\n",
    "        cityname,\n",
    "        tags=tags\n",
    "    )\n",
    "# Project amenities\n",
    "amenities = amenities.to_crs(epsg=3035)"
   ]
  },
  {
   "cell_type": "code",
   "execution_count": null,
   "id": "ad4b4bb2-4667-4c2f-a3bf-84099f893b58",
   "metadata": {},
   "outputs": [],
   "source": [
    "# Save as gpkg\n",
    "#amenities_point = amenities[amenities['geometry'].apply(lambda x: x.type=='Point')]\n",
    "#amenities_point.to_file('amenities_'+city+'.gpkg', driver='GPKG')"
   ]
  },
  {
   "cell_type": "code",
   "execution_count": null,
   "id": "7ba22110-1b91-4ce9-942c-0dc1676db715",
   "metadata": {},
   "outputs": [],
   "source": [
    "# Construct the pandana network model\n",
    "network = pandana.Network(\n",
    "    node_x=nodes['x'],\n",
    "    node_y=nodes['y'], \n",
    "    edge_from=edges['u'],\n",
    "    edge_to=edges['v'],\n",
    "    edge_weights=edges[['travel_time']]\n",
    ")\n",
    "\n",
    "# Extract centroids from the amenities' geometries\n",
    "centroids = amenities.centroid"
   ]
  },
  {
   "cell_type": "code",
   "execution_count": null,
   "id": "d852fd3f-5f00-4dcf-8829-4c85f4b62ec1",
   "metadata": {},
   "outputs": [],
   "source": [
    "# Specify a max travel distance for analysis\n",
    "# Minutes -> seconds\n",
    "maxdist = walk_time * 60\n",
    "\n",
    "# Set the amenities' locations on the network\n",
    "network.set_pois(\n",
    "    category='pois',\n",
    "    maxdist=maxdist,\n",
    "    maxitems=10,\n",
    "    x_col=centroids.x, \n",
    "    y_col=centroids.y\n",
    ")"
   ]
  },
  {
   "cell_type": "code",
   "execution_count": null,
   "id": "285818a2-be53-488f-a59a-4090e6bd9e55",
   "metadata": {},
   "outputs": [],
   "source": [
    "# calculate travel time to 10 nearest amenities from each node in network\n",
    "distances = network.nearest_pois(\n",
    "    distance=maxdist,\n",
    "    category='pois',\n",
    "    num_pois=10\n",
    ")\n",
    "\n",
    "distances.astype(int).head()"
   ]
  },
  {
   "cell_type": "code",
   "execution_count": null,
   "id": "7e1c7e99-28f6-4bd7-b50a-9178da86222e",
   "metadata": {},
   "outputs": [],
   "source": [
    "# plot distance to nearest amenity\n",
    "fig, ax = ox.plot_graph(\n",
    "    graph,\n",
    "    node_size=0,\n",
    "    edge_linewidth=0.1,\n",
    "    edge_color='gray',\n",
    "    show=False,\n",
    "    close=False\n",
    ")\n",
    "\n",
    "sc = ax.scatter(\n",
    "    x=nodes['x'],\n",
    "    y=nodes['y'], \n",
    "    c=distances[5],\n",
    "    s=1,\n",
    "    cmap='viridis_r'\n",
    ")\n",
    "\n",
    "ax.set_title(f'Walking time to 5th nearest poi (seconds)')\n",
    "plt.colorbar(sc, shrink=0.7).outline.set_edgecolor('none')"
   ]
  },
  {
   "cell_type": "code",
   "execution_count": null,
   "id": "1104f77e-ac2c-428e-bf07-c9ba7b57f773",
   "metadata": {},
   "outputs": [],
   "source": [
    "# check data\n",
    "distances.head()"
   ]
  },
  {
   "cell_type": "code",
   "execution_count": null,
   "id": "b18eb1b5-af96-4f73-aae1-4b743fedcc7f",
   "metadata": {},
   "outputs": [],
   "source": [
    "nodes.head()"
   ]
  },
  {
   "cell_type": "code",
   "execution_count": null,
   "id": "a00d4ea1-c0d0-49ea-becf-9129c43bba99",
   "metadata": {},
   "outputs": [],
   "source": [
    "# Get nodes with wgs coords for output\n",
    "graph_wgs = ox.projection.project_graph(graph, to_crs=4326)\n",
    "nodes_wgs = ox.graph_to_gdfs(graph_wgs, edges=False)[['x', 'y']]"
   ]
  },
  {
   "cell_type": "code",
   "execution_count": null,
   "id": "225f2dd5-547e-410b-be4b-4a3b4126346e",
   "metadata": {},
   "outputs": [],
   "source": [
    "# Join travel time info to nodes\n",
    "walk_access = nodes.join(distances, on='osmid', how='left')\n",
    "walk_access_wgs = nodes_wgs.join(distances, on='osmid', how='left')"
   ]
  },
  {
   "cell_type": "code",
   "execution_count": null,
   "id": "c8651e96-158c-4883-ae70-75a2b1428121",
   "metadata": {},
   "outputs": [],
   "source": [
    "walk_access_wgs"
   ]
  },
  {
   "cell_type": "code",
   "execution_count": null,
   "id": "f6d6bdb4-a93a-4d6a-8c17-7c8b693bc85b",
   "metadata": {},
   "outputs": [],
   "source": [
    "# Save as CSV\n",
    "walk_access_wgs.to_csv('walk_access_'+city+'.csv', encoding='utf-8')"
   ]
  },
  {
   "cell_type": "code",
   "execution_count": null,
   "id": "b5708753-5fcd-4c12-b400-3e2bf05ca5e7",
   "metadata": {},
   "outputs": [],
   "source": []
  }
 ],
 "metadata": {
  "kernelspec": {
   "display_name": "Python 3",
   "language": "python",
   "name": "python3"
  },
  "language_info": {
   "codemirror_mode": {
    "name": "ipython",
    "version": 3
   },
   "file_extension": ".py",
   "mimetype": "text/x-python",
   "name": "python",
   "nbconvert_exporter": "python",
   "pygments_lexer": "ipython3",
   "version": "3.8.10"
  }
 },
 "nbformat": 4,
 "nbformat_minor": 5
}
