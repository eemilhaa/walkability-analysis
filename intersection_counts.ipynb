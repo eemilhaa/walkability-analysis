{
 "cells": [
  {
   "cell_type": "code",
   "execution_count": 1,
   "id": "c43bb79c-46eb-4838-ae18-e72e8c52192e",
   "metadata": {},
   "outputs": [
    {
     "data": {
      "text/plain": [
       "'1.1.1'"
      ]
     },
     "execution_count": 1,
     "metadata": {},
     "output_type": "execute_result"
    }
   ],
   "source": [
    "import osmnx as ox\n",
    "import matplotlib.pyplot as plt\n",
    "import geopandas as gpd\n",
    "\n",
    "%matplotlib inline\n",
    "ox.config(log_console=True)\n",
    "ox.__version__"
   ]
  },
  {
   "cell_type": "code",
   "execution_count": 2,
   "id": "4fccc777-daa1-4869-a46a-a5beb5b26ad7",
   "metadata": {},
   "outputs": [],
   "source": [
    "cityname = 'helsinki, finland'\n",
    "crs = 3067"
   ]
  },
  {
   "cell_type": "code",
   "execution_count": null,
   "id": "661a3206-9c59-4b1e-8ddb-31927f3d80e9",
   "metadata": {},
   "outputs": [],
   "source": [
    "# Get graph by geocoding\n",
    "graph = ox.graph_from_place(cityname, network_type=\"walk\")"
   ]
  },
  {
   "cell_type": "code",
   "execution_count": null,
   "id": "6bb657b2-d342-487f-8f84-5808a6479a63",
   "metadata": {},
   "outputs": [],
   "source": [
    "# Simplify to get real intersections only\n",
    "# (consolidate nodes within a distance from eachother)\n",
    "graph_simplified = ox.simplification.consolidate_intersections(\n",
    "    # Graph to simplify\n",
    "    graph,\n",
    "    # buffer around each node (project the graph beforehand)\n",
    "    tolerance=5,\n",
    "    # Get result as graph (False to get nodes only as gdf)\n",
    "    rebuild_graph=True,\n",
    "    # no dead ends\n",
    "    dead_ends=False,\n",
    "    # Reconnect (False to get intersections only)\n",
    "    reconnect_edges=True\n",
    ")"
   ]
  },
  {
   "cell_type": "code",
   "execution_count": null,
   "id": "92742c9d-cb41-4386-8e25-f7919c79b1c6",
   "metadata": {},
   "outputs": [],
   "source": [
    "# everything to gdfs\n",
    "nodes, edges = ox.graph_to_gdfs(graph)\n",
    "nodes_s, edges_s = ox.graph_to_gdfs(graph_simplified)"
   ]
  },
  {
   "cell_type": "code",
   "execution_count": null,
   "id": "13465a8e-e62e-4e62-9b46-eb1b94b0658c",
   "metadata": {},
   "outputs": [],
   "source": [
    "# Setup plot\n",
    "fig, ax = plt.subplots(figsize=(20,15))\n",
    "ax.set_axis_off()\n",
    "#fig.set_facecolor((0.065,0.065,0.065))\n",
    "#fig.set_facecolor((0.004,0.016,0.035))\n",
    "fig.set_facecolor('black')\n",
    "\n",
    "# Plot data\n",
    "edges.plot(\n",
    "    ax=ax,\n",
    "    color=[1,1,1],\n",
    "    linewidth=0.2\n",
    ")\n",
    "\n",
    "# Tight layout\n",
    "plt.tight_layout()\n",
    "#plt.savefig('./docs/graph_overview.png')"
   ]
  },
  {
   "cell_type": "code",
   "execution_count": null,
   "id": "8d54cd74-5319-4ed7-ad98-51bddfc58d62",
   "metadata": {},
   "outputs": [],
   "source": [
    "# Colors\n",
    "facecol = 'black'\n",
    "edgecol = [0.5,0.5,0.5]\n",
    "nodecol = 'white'\n",
    "linewidth = 0.5\n",
    "markersize = 5\n",
    "\n",
    "# Setup plot\n",
    "fig, axs = plt.subplots(ncols=2, figsize=(20,10))\n",
    "axs[0].set_axis_off()\n",
    "axs[1].set_axis_off()\n",
    "fig.set_facecolor(facecol)\n",
    "\n",
    "# Plot data\n",
    "edges.plot(\n",
    "    ax=axs[0],\n",
    "    color=edgecol,\n",
    "    linewidth=linewidth\n",
    ")\n",
    "nodes.plot(\n",
    "    ax=axs[0],\n",
    "    color=nodecol,\n",
    "    markersize=markersize\n",
    ")\n",
    "\n",
    "edges_s.plot(\n",
    "    ax=axs[1],\n",
    "    color=edgecol,\n",
    "    linewidth=linewidth\n",
    ")\n",
    "nodes_s.plot(\n",
    "    ax=axs[1],\n",
    "    color=nodecol,\n",
    "    markersize=markersize\n",
    ")\n",
    "\n",
    "# Zoom in\n",
    "#plt.setp(axs[1][0], xlim=(4481000,4484000), ylim=(3621000,3624000))\n",
    "#plt.setp(axs[1][1], xlim=(4481000,4484000), ylim=(3621000,3624000))\n",
    "plt.setp(axs[0], xlim=(5069000,5071000), ylim=(3294000,3296000))\n",
    "plt.setp(axs[1], xlim=(5069000,5071000), ylim=(3294000,3296000))\n",
    "\n",
    "# Tight layout \n",
    "plt.tight_layout()\n",
    "#plt.savefig('./docs/graph_comparison.png')"
   ]
  },
  {
   "cell_type": "code",
   "execution_count": null,
   "id": "eddbfbff-a9d0-45a0-81b1-a638db0a52af",
   "metadata": {},
   "outputs": [],
   "source": [
    "# Print info\n",
    "print(\n",
    "    'number of nodes:\\n\\noriginal graph: '+str(len(nodes))\n",
    "    +'\\nsimplified graph: '+str(len(nodes_s))\n",
    ")"
   ]
  },
  {
   "cell_type": "code",
   "execution_count": null,
   "id": "c50a6b88-1391-4968-bd4d-0bc48091fef9",
   "metadata": {},
   "outputs": [],
   "source": [
    "# Save nodes\n",
    "#nodes.to_file('./data/nodes.gpkg', driver='GPKG')\n",
    "#nodes_s.to_file('./data/intersections.gpkg', driver='GPKG')"
   ]
  },
  {
   "cell_type": "code",
   "execution_count": null,
   "id": "8b798b81-cf2c-444d-85bf-30668fc7b240",
   "metadata": {},
   "outputs": [],
   "source": [
    "COLOR = 'white'\n",
    "plt.rcParams['text.color'] = COLOR\n",
    "plt.rcParams['axes.labelcolor'] = COLOR\n",
    "plt.rcParams['xtick.color'] = COLOR\n",
    "plt.rcParams['ytick.color'] = COLOR\n",
    "\n",
    "# Plot\n",
    "fig, ax = plt.subplots(figsize=(20,15))\n",
    "ax.set_axis_off()\n",
    "fig.set_facecolor('black')\n",
    "\n",
    "\n",
    "hb = ax.hexbin(\n",
    "    x=nodes_s['x'],\n",
    "    y=nodes_s['y'],\n",
    "    gridsize=75,\n",
    "    cmap='mako',\n",
    "    mincnt=1,\n",
    "    vmax=100,\n",
    ")\n",
    "\n",
    "\n",
    "#fig.suptitle('Intersection count', fontsize=30)\n",
    "\n",
    "cb = fig.colorbar(hb, ax=ax, shrink=0.8, ticks=[1, 20, 40, 60, 80, 100])\n",
    "cb.ax.tick_params(color='none', labelsize=20)\n",
    "cb.ax.set_yticklabels(['1', '20', '40', '60', '80', '>= 100'])\n",
    "\n",
    "#cb.ax.yaxis.set_tick_params(color='none')\n",
    "#cb.ax.tick_params(labelsize=20) \n",
    "cb.set_label('Intersections per bin', fontsize=20, fontweight='bold')\n",
    "\n",
    "plt.tight_layout()\n",
    "#plt.savefig('./docs/intersection_hexbin.png', bbox_inches='tight')"
   ]
  },
  {
   "cell_type": "code",
   "execution_count": null,
   "id": "e027898e-1607-4ebf-bafe-b2820902ac02",
   "metadata": {},
   "outputs": [],
   "source": [
    "import seaborn as sns"
   ]
  },
  {
   "cell_type": "code",
   "execution_count": null,
   "id": "a8ac0497-5891-46bd-86ae-38fda513dd33",
   "metadata": {},
   "outputs": [],
   "source": [
    "# Plot\n",
    "fig, ax = plt.subplots(figsize=(20,15))\n",
    "ax.set_axis_off()\n",
    "fig.set_facecolor('black')\n",
    "\n",
    "sns.kdeplot(\n",
    "    ax=ax,\n",
    "    data=nodes_s,\n",
    "    x='x', y='y',\n",
    "    hue=None,\n",
    "    fill=True,\n",
    "    cmap='mako',\n",
    "    levels=10,\n",
    "    \n",
    "    cbar=True\n",
    ")\n",
    "\n",
    "plt.tight_layout()"
   ]
  },
  {
   "cell_type": "code",
   "execution_count": null,
   "id": "e57bfd22-cd97-4d06-af36-b04a92254e0f",
   "metadata": {},
   "outputs": [],
   "source": []
  }
 ],
 "metadata": {
  "kernelspec": {
   "display_name": "Python 3",
   "language": "python",
   "name": "python3"
  },
  "language_info": {
   "codemirror_mode": {
    "name": "ipython",
    "version": 3
   },
   "file_extension": ".py",
   "mimetype": "text/x-python",
   "name": "python",
   "nbconvert_exporter": "python",
   "pygments_lexer": "ipython3",
   "version": "3.8.10"
  }
 },
 "nbformat": 4,
 "nbformat_minor": 5
}
